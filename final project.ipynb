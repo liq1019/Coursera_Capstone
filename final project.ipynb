{
    "cells": [
        {
            "metadata": {},
            "cell_type": "code",
            "source": "import pandas as pd\nimport numpy as np ",
            "execution_count": 14,
            "outputs": []
        },
        {
            "metadata": {},
            "cell_type": "code",
            "source": "#read data from toronto census 2006. I have cleaned steps of looking at original data and selected rows I want.\ndf2006=pd.read_excel('https://ckan0.cf.opendata.inter.prod-toronto.ca/download_resource/db593b77-b53d-4e61-a5cb-543c77f8f22d',sheet_name='2006')\ndf2006=df2006.loc[174:177,:]\n#Since column 'Unnamed: 1' is the total number of the whole city, and we want specific number for each region, so I drop it.\ndf2006=df2006.drop('Unnamed: 1', axis=1)\n#there are NaN in the dataframe and I am going to change them to 0.\ndf2006=df2006.fillna(0)\n#by using dtype i see data types are intergers, for the convenience of calculation i change them to floats.\ndf2006=df2006.set_index('City of Toronto Profiles')\ndf2006=df2006.astype(float)\n#Then I sum the columns to get total Chinese population in each region.\ndf2006.loc['2006']=df2006.sum(axis=0)\n#renaming columns to match toronto data\ndf2006.columns=['Ward 1','Ward 2','Ward 3','Ward 4','Ward 5','Ward 6','Ward 7','Ward 8','Ward 9','Ward 10','Ward 11','Ward 12','Ward 13','Ward 14','Ward 15','Ward 16','Ward 17','Ward 18','Ward 19','Ward 20','Ward 21','Ward 22','Ward 23','Ward 24','Ward 25','Ward 26','Ward 27','Ward 28','Ward 29','Ward 30','Ward 31','Ward 32','Ward 33','Ward 34','Ward 35','Ward 36','Ward 37','Ward 38','Ward 39','Ward 40','Ward 41','Ward 42','Ward 43','Ward 44','Ward 45','Ward 46','Ward 47','Ward 48']\ndf2006=df2006.loc[['2006'],:]\ndf2006\n#we get a final result of population in each region in year 2006.",
            "execution_count": 15,
            "outputs": [
                {
                    "output_type": "execute_result",
                    "execution_count": 15,
                    "data": {
                        "text/plain": "                          Ward 1  Ward 2  Ward 3  Ward 4  Ward 5  Ward 6  \\\nCity of Toronto Profiles                                                   \n2006                      1125.0   665.0  1530.0   900.0  1250.0  1070.0   \n\n                          Ward 7  Ward 8  Ward 9  Ward 10  ...  Ward 39  \\\nCity of Toronto Profiles                                   ...            \n2006                      1145.0  3805.0  1645.0   1480.0  ...  26315.0   \n\n                          Ward 40  Ward 41  Ward 42  Ward 43  Ward 44  \\\nCity of Toronto Profiles                                                \n2006                      16000.0  33980.0   6935.0   1105.0   2085.0   \n\n                          Ward 45  Ward 46  Ward 47  Ward 48  \nCity of Toronto Profiles                                      \n2006                          0.0      0.0      0.0      0.0  \n\n[1 rows x 48 columns]",
                        "text/html": "<div>\n<style scoped>\n    .dataframe tbody tr th:only-of-type {\n        vertical-align: middle;\n    }\n\n    .dataframe tbody tr th {\n        vertical-align: top;\n    }\n\n    .dataframe thead th {\n        text-align: right;\n    }\n</style>\n<table border=\"1\" class=\"dataframe\">\n  <thead>\n    <tr style=\"text-align: right;\">\n      <th></th>\n      <th>Ward 1</th>\n      <th>Ward 2</th>\n      <th>Ward 3</th>\n      <th>Ward 4</th>\n      <th>Ward 5</th>\n      <th>Ward 6</th>\n      <th>Ward 7</th>\n      <th>Ward 8</th>\n      <th>Ward 9</th>\n      <th>Ward 10</th>\n      <th>...</th>\n      <th>Ward 39</th>\n      <th>Ward 40</th>\n      <th>Ward 41</th>\n      <th>Ward 42</th>\n      <th>Ward 43</th>\n      <th>Ward 44</th>\n      <th>Ward 45</th>\n      <th>Ward 46</th>\n      <th>Ward 47</th>\n      <th>Ward 48</th>\n    </tr>\n    <tr>\n      <th>City of Toronto Profiles</th>\n      <th></th>\n      <th></th>\n      <th></th>\n      <th></th>\n      <th></th>\n      <th></th>\n      <th></th>\n      <th></th>\n      <th></th>\n      <th></th>\n      <th></th>\n      <th></th>\n      <th></th>\n      <th></th>\n      <th></th>\n      <th></th>\n      <th></th>\n      <th></th>\n      <th></th>\n      <th></th>\n      <th></th>\n    </tr>\n  </thead>\n  <tbody>\n    <tr>\n      <th>2006</th>\n      <td>1125.0</td>\n      <td>665.0</td>\n      <td>1530.0</td>\n      <td>900.0</td>\n      <td>1250.0</td>\n      <td>1070.0</td>\n      <td>1145.0</td>\n      <td>3805.0</td>\n      <td>1645.0</td>\n      <td>1480.0</td>\n      <td>...</td>\n      <td>26315.0</td>\n      <td>16000.0</td>\n      <td>33980.0</td>\n      <td>6935.0</td>\n      <td>1105.0</td>\n      <td>2085.0</td>\n      <td>0.0</td>\n      <td>0.0</td>\n      <td>0.0</td>\n      <td>0.0</td>\n    </tr>\n  </tbody>\n</table>\n<p>1 rows \u00d7 48 columns</p>\n</div>"
                    },
                    "metadata": {}
                }
            ]
        },
        {
            "metadata": {},
            "cell_type": "code",
            "source": "#I did the same thing to year 2011.\ndf2011=pd.read_excel('https://ckan0.cf.opendata.inter.prod-toronto.ca/download_resource/db593b77-b53d-4e61-a5cb-543c77f8f22d',sheet_name='2011')\ndf2011=df2011.loc[[185,186,195,199,218,236,249],:]\ndf2011=df2011.drop('Unnamed: 1', axis=1)\n\ndf2011=df2011.set_index('City of Toronto Profiles')\ndf2011=df2011.astype(float)\n\ndf2011.loc['2011']=df2011.sum(axis=0)\n\ndf2011.columns=['Ward 1','Ward 2','Ward 3','Ward 4','Ward 5','Ward 6','Ward 7','Ward 8','Ward 9','Ward 10','Ward 11','Ward 12','Ward 13','Ward 14','Ward 15','Ward 16','Ward 17','Ward 18','Ward 19','Ward 20','Ward 21','Ward 22','Ward 23','Ward 24','Ward 25','Ward 26','Ward 27','Ward 28','Ward 29','Ward 30','Ward 31','Ward 32','Ward 33','Ward 34','Ward 35','Ward 36','Ward 37','Ward 38','Ward 39','Ward 40','Ward 41','Ward 42','Ward 43','Ward 44','Ward 45','Ward 46','Ward 47','Ward 48']\ndf2011=df2011.loc[['2011'],:]\ndf2011",
            "execution_count": 16,
            "outputs": [
                {
                    "output_type": "execute_result",
                    "execution_count": 16,
                    "data": {
                        "text/plain": "                          Ward 1  Ward 2  Ward 3  Ward 4  Ward 5  Ward 6  \\\nCity of Toronto Profiles                                                   \n2011                       665.0   610.0  1410.0   885.0  1360.0  1230.0   \n\n                          Ward 7  Ward 8  Ward 9  Ward 10  ...  Ward 39  \\\nCity of Toronto Profiles                                   ...            \n2011                      1110.0  2545.0  1470.0   1170.0  ...  27305.0   \n\n                          Ward 40  Ward 41  Ward 42  Ward 43  Ward 44  \\\nCity of Toronto Profiles                                                \n2011                      15390.0  35685.0   6180.0   1260.0   1950.0   \n\n                          Ward 45  Ward 46  Ward 47   Ward 48  \nCity of Toronto Profiles                                       \n2011                      11900.0  68780.0  50450.0  103840.0  \n\n[1 rows x 48 columns]",
                        "text/html": "<div>\n<style scoped>\n    .dataframe tbody tr th:only-of-type {\n        vertical-align: middle;\n    }\n\n    .dataframe tbody tr th {\n        vertical-align: top;\n    }\n\n    .dataframe thead th {\n        text-align: right;\n    }\n</style>\n<table border=\"1\" class=\"dataframe\">\n  <thead>\n    <tr style=\"text-align: right;\">\n      <th></th>\n      <th>Ward 1</th>\n      <th>Ward 2</th>\n      <th>Ward 3</th>\n      <th>Ward 4</th>\n      <th>Ward 5</th>\n      <th>Ward 6</th>\n      <th>Ward 7</th>\n      <th>Ward 8</th>\n      <th>Ward 9</th>\n      <th>Ward 10</th>\n      <th>...</th>\n      <th>Ward 39</th>\n      <th>Ward 40</th>\n      <th>Ward 41</th>\n      <th>Ward 42</th>\n      <th>Ward 43</th>\n      <th>Ward 44</th>\n      <th>Ward 45</th>\n      <th>Ward 46</th>\n      <th>Ward 47</th>\n      <th>Ward 48</th>\n    </tr>\n    <tr>\n      <th>City of Toronto Profiles</th>\n      <th></th>\n      <th></th>\n      <th></th>\n      <th></th>\n      <th></th>\n      <th></th>\n      <th></th>\n      <th></th>\n      <th></th>\n      <th></th>\n      <th></th>\n      <th></th>\n      <th></th>\n      <th></th>\n      <th></th>\n      <th></th>\n      <th></th>\n      <th></th>\n      <th></th>\n      <th></th>\n      <th></th>\n    </tr>\n  </thead>\n  <tbody>\n    <tr>\n      <th>2011</th>\n      <td>665.0</td>\n      <td>610.0</td>\n      <td>1410.0</td>\n      <td>885.0</td>\n      <td>1360.0</td>\n      <td>1230.0</td>\n      <td>1110.0</td>\n      <td>2545.0</td>\n      <td>1470.0</td>\n      <td>1170.0</td>\n      <td>...</td>\n      <td>27305.0</td>\n      <td>15390.0</td>\n      <td>35685.0</td>\n      <td>6180.0</td>\n      <td>1260.0</td>\n      <td>1950.0</td>\n      <td>11900.0</td>\n      <td>68780.0</td>\n      <td>50450.0</td>\n      <td>103840.0</td>\n    </tr>\n  </tbody>\n</table>\n<p>1 rows \u00d7 48 columns</p>\n</div>"
                    },
                    "metadata": {}
                }
            ]
        },
        {
            "metadata": {},
            "cell_type": "code",
            "source": "#Again to 2016\ndf2016=pd.read_excel('https://ckan0.cf.opendata.inter.prod-toronto.ca/download_resource/eb735d6c-7713-44ee-93d1-be7bdc0f2647',sheet_name='One Variable')\ndf2016=df2016.loc[[533],:]\n\ndf2016=df2016.drop('Unnamed: 1', axis=1)\n\ndf2016=df2016.set_index('City of Toronto Profiles')\ndf2016=df2016.astype(float)\n\ndf2016.loc['2016']=df2016.sum(axis=0)\n\ndf2016.columns=['Ward 1','Ward 2','Ward 3','Ward 4','Ward 5','Ward 6','Ward 7','Ward 8','Ward 9','Ward 10','Ward 11','Ward 12','Ward 13','Ward 14','Ward 15','Ward 16','Ward 17','Ward 18','Ward 19','Ward 20','Ward 21','Ward 22','Ward 23','Ward 24','Ward 25','Ward 26','Ward 27','Ward 28','Ward 29','Ward 30','Ward 31','Ward 32','Ward 33','Ward 34','Ward 35','Ward 36','Ward 37','Ward 38','Ward 39','Ward 40','Ward 41','Ward 42','Ward 43','Ward 44','Ward 45','Ward 46','Ward 47','Ward 48']\ndf2016=df2016.loc[['2016'],:]\ndf2016",
            "execution_count": 17,
            "outputs": [
                {
                    "output_type": "execute_result",
                    "execution_count": 17,
                    "data": {
                        "text/plain": "                          Ward 1  Ward 2  Ward 3  Ward 4  Ward 5  Ward 6  \\\nCity of Toronto Profiles                                                   \n2016                       600.0   565.0  1365.0   935.0  1745.0  1715.0   \n\n                          Ward 7  Ward 8  Ward 9  Ward 10  ...  Ward 39  \\\nCity of Toronto Profiles                                   ...            \n2016                      1345.0  2100.0  1360.0   1620.0  ...  26995.0   \n\n                          Ward 40  Ward 41  Ward 42  Ward 43  Ward 44  \\\nCity of Toronto Profiles                                                \n2016                      15185.0  35505.0   5955.0   1395.0   2000.0   \n\n                          Ward 45  Ward 46   Ward 47  Ward 48  \nCity of Toronto Profiles                                       \n2016                      12780.0  74625.0  102130.0  54425.0  \n\n[1 rows x 48 columns]",
                        "text/html": "<div>\n<style scoped>\n    .dataframe tbody tr th:only-of-type {\n        vertical-align: middle;\n    }\n\n    .dataframe tbody tr th {\n        vertical-align: top;\n    }\n\n    .dataframe thead th {\n        text-align: right;\n    }\n</style>\n<table border=\"1\" class=\"dataframe\">\n  <thead>\n    <tr style=\"text-align: right;\">\n      <th></th>\n      <th>Ward 1</th>\n      <th>Ward 2</th>\n      <th>Ward 3</th>\n      <th>Ward 4</th>\n      <th>Ward 5</th>\n      <th>Ward 6</th>\n      <th>Ward 7</th>\n      <th>Ward 8</th>\n      <th>Ward 9</th>\n      <th>Ward 10</th>\n      <th>...</th>\n      <th>Ward 39</th>\n      <th>Ward 40</th>\n      <th>Ward 41</th>\n      <th>Ward 42</th>\n      <th>Ward 43</th>\n      <th>Ward 44</th>\n      <th>Ward 45</th>\n      <th>Ward 46</th>\n      <th>Ward 47</th>\n      <th>Ward 48</th>\n    </tr>\n    <tr>\n      <th>City of Toronto Profiles</th>\n      <th></th>\n      <th></th>\n      <th></th>\n      <th></th>\n      <th></th>\n      <th></th>\n      <th></th>\n      <th></th>\n      <th></th>\n      <th></th>\n      <th></th>\n      <th></th>\n      <th></th>\n      <th></th>\n      <th></th>\n      <th></th>\n      <th></th>\n      <th></th>\n      <th></th>\n      <th></th>\n      <th></th>\n    </tr>\n  </thead>\n  <tbody>\n    <tr>\n      <th>2016</th>\n      <td>600.0</td>\n      <td>565.0</td>\n      <td>1365.0</td>\n      <td>935.0</td>\n      <td>1745.0</td>\n      <td>1715.0</td>\n      <td>1345.0</td>\n      <td>2100.0</td>\n      <td>1360.0</td>\n      <td>1620.0</td>\n      <td>...</td>\n      <td>26995.0</td>\n      <td>15185.0</td>\n      <td>35505.0</td>\n      <td>5955.0</td>\n      <td>1395.0</td>\n      <td>2000.0</td>\n      <td>12780.0</td>\n      <td>74625.0</td>\n      <td>102130.0</td>\n      <td>54425.0</td>\n    </tr>\n  </tbody>\n</table>\n<p>1 rows \u00d7 48 columns</p>\n</div>"
                    },
                    "metadata": {}
                }
            ]
        },
        {
            "metadata": {},
            "cell_type": "code",
            "source": "#combine all 3 data frame into a final data frame showing changes in population in each region in 3 years.\nframes=[df2006,df2011,df2016]\nresult=pd.concat(frames)\nresult.index.name='year'\nresult",
            "execution_count": 18,
            "outputs": [
                {
                    "output_type": "execute_result",
                    "execution_count": 18,
                    "data": {
                        "text/plain": "      Ward 1  Ward 2  Ward 3  Ward 4  Ward 5  Ward 6  Ward 7  Ward 8  Ward 9  \\\nyear                                                                           \n2006  1125.0   665.0  1530.0   900.0  1250.0  1070.0  1145.0  3805.0  1645.0   \n2011   665.0   610.0  1410.0   885.0  1360.0  1230.0  1110.0  2545.0  1470.0   \n2016   600.0   565.0  1365.0   935.0  1745.0  1715.0  1345.0  2100.0  1360.0   \n\n      Ward 10  ...  Ward 39  Ward 40  Ward 41  Ward 42  Ward 43  Ward 44  \\\nyear           ...                                                         \n2006   1480.0  ...  26315.0  16000.0  33980.0   6935.0   1105.0   2085.0   \n2011   1170.0  ...  27305.0  15390.0  35685.0   6180.0   1260.0   1950.0   \n2016   1620.0  ...  26995.0  15185.0  35505.0   5955.0   1395.0   2000.0   \n\n      Ward 45  Ward 46   Ward 47   Ward 48  \nyear                                        \n2006      0.0      0.0       0.0       0.0  \n2011  11900.0  68780.0   50450.0  103840.0  \n2016  12780.0  74625.0  102130.0   54425.0  \n\n[3 rows x 48 columns]",
                        "text/html": "<div>\n<style scoped>\n    .dataframe tbody tr th:only-of-type {\n        vertical-align: middle;\n    }\n\n    .dataframe tbody tr th {\n        vertical-align: top;\n    }\n\n    .dataframe thead th {\n        text-align: right;\n    }\n</style>\n<table border=\"1\" class=\"dataframe\">\n  <thead>\n    <tr style=\"text-align: right;\">\n      <th></th>\n      <th>Ward 1</th>\n      <th>Ward 2</th>\n      <th>Ward 3</th>\n      <th>Ward 4</th>\n      <th>Ward 5</th>\n      <th>Ward 6</th>\n      <th>Ward 7</th>\n      <th>Ward 8</th>\n      <th>Ward 9</th>\n      <th>Ward 10</th>\n      <th>...</th>\n      <th>Ward 39</th>\n      <th>Ward 40</th>\n      <th>Ward 41</th>\n      <th>Ward 42</th>\n      <th>Ward 43</th>\n      <th>Ward 44</th>\n      <th>Ward 45</th>\n      <th>Ward 46</th>\n      <th>Ward 47</th>\n      <th>Ward 48</th>\n    </tr>\n    <tr>\n      <th>year</th>\n      <th></th>\n      <th></th>\n      <th></th>\n      <th></th>\n      <th></th>\n      <th></th>\n      <th></th>\n      <th></th>\n      <th></th>\n      <th></th>\n      <th></th>\n      <th></th>\n      <th></th>\n      <th></th>\n      <th></th>\n      <th></th>\n      <th></th>\n      <th></th>\n      <th></th>\n      <th></th>\n      <th></th>\n    </tr>\n  </thead>\n  <tbody>\n    <tr>\n      <th>2006</th>\n      <td>1125.0</td>\n      <td>665.0</td>\n      <td>1530.0</td>\n      <td>900.0</td>\n      <td>1250.0</td>\n      <td>1070.0</td>\n      <td>1145.0</td>\n      <td>3805.0</td>\n      <td>1645.0</td>\n      <td>1480.0</td>\n      <td>...</td>\n      <td>26315.0</td>\n      <td>16000.0</td>\n      <td>33980.0</td>\n      <td>6935.0</td>\n      <td>1105.0</td>\n      <td>2085.0</td>\n      <td>0.0</td>\n      <td>0.0</td>\n      <td>0.0</td>\n      <td>0.0</td>\n    </tr>\n    <tr>\n      <th>2011</th>\n      <td>665.0</td>\n      <td>610.0</td>\n      <td>1410.0</td>\n      <td>885.0</td>\n      <td>1360.0</td>\n      <td>1230.0</td>\n      <td>1110.0</td>\n      <td>2545.0</td>\n      <td>1470.0</td>\n      <td>1170.0</td>\n      <td>...</td>\n      <td>27305.0</td>\n      <td>15390.0</td>\n      <td>35685.0</td>\n      <td>6180.0</td>\n      <td>1260.0</td>\n      <td>1950.0</td>\n      <td>11900.0</td>\n      <td>68780.0</td>\n      <td>50450.0</td>\n      <td>103840.0</td>\n    </tr>\n    <tr>\n      <th>2016</th>\n      <td>600.0</td>\n      <td>565.0</td>\n      <td>1365.0</td>\n      <td>935.0</td>\n      <td>1745.0</td>\n      <td>1715.0</td>\n      <td>1345.0</td>\n      <td>2100.0</td>\n      <td>1360.0</td>\n      <td>1620.0</td>\n      <td>...</td>\n      <td>26995.0</td>\n      <td>15185.0</td>\n      <td>35505.0</td>\n      <td>5955.0</td>\n      <td>1395.0</td>\n      <td>2000.0</td>\n      <td>12780.0</td>\n      <td>74625.0</td>\n      <td>102130.0</td>\n      <td>54425.0</td>\n    </tr>\n  </tbody>\n</table>\n<p>3 rows \u00d7 48 columns</p>\n</div>"
                    },
                    "metadata": {}
                }
            ]
        },
        {
            "metadata": {},
            "cell_type": "code",
            "source": "rt=result\nrt['total']=rt.sum(axis=1)\nrt\n#a quick check to see how the total chinese population chage in trend. ",
            "execution_count": 19,
            "outputs": [
                {
                    "output_type": "execute_result",
                    "execution_count": 19,
                    "data": {
                        "text/plain": "      Ward 1  Ward 2  Ward 3  Ward 4  Ward 5  Ward 6  Ward 7  Ward 8  Ward 9  \\\nyear                                                                           \n2006  1125.0   665.0  1530.0   900.0  1250.0  1070.0  1145.0  3805.0  1645.0   \n2011   665.0   610.0  1410.0   885.0  1360.0  1230.0  1110.0  2545.0  1470.0   \n2016   600.0   565.0  1365.0   935.0  1745.0  1715.0  1345.0  2100.0  1360.0   \n\n      Ward 10  ...  Ward 40  Ward 41  Ward 42  Ward 43  Ward 44  Ward 45  \\\nyear           ...                                                         \n2006   1480.0  ...  16000.0  33980.0   6935.0   1105.0   2085.0      0.0   \n2011   1170.0  ...  15390.0  35685.0   6180.0   1260.0   1950.0  11900.0   \n2016   1620.0  ...  15185.0  35505.0   5955.0   1395.0   2000.0  12780.0   \n\n      Ward 46   Ward 47   Ward 48     total  \nyear                                         \n2006      0.0       0.0       0.0  240535.0  \n2011  68780.0   50450.0  103840.0  469940.0  \n2016  74625.0  102130.0   54425.0  487905.0  \n\n[3 rows x 49 columns]",
                        "text/html": "<div>\n<style scoped>\n    .dataframe tbody tr th:only-of-type {\n        vertical-align: middle;\n    }\n\n    .dataframe tbody tr th {\n        vertical-align: top;\n    }\n\n    .dataframe thead th {\n        text-align: right;\n    }\n</style>\n<table border=\"1\" class=\"dataframe\">\n  <thead>\n    <tr style=\"text-align: right;\">\n      <th></th>\n      <th>Ward 1</th>\n      <th>Ward 2</th>\n      <th>Ward 3</th>\n      <th>Ward 4</th>\n      <th>Ward 5</th>\n      <th>Ward 6</th>\n      <th>Ward 7</th>\n      <th>Ward 8</th>\n      <th>Ward 9</th>\n      <th>Ward 10</th>\n      <th>...</th>\n      <th>Ward 40</th>\n      <th>Ward 41</th>\n      <th>Ward 42</th>\n      <th>Ward 43</th>\n      <th>Ward 44</th>\n      <th>Ward 45</th>\n      <th>Ward 46</th>\n      <th>Ward 47</th>\n      <th>Ward 48</th>\n      <th>total</th>\n    </tr>\n    <tr>\n      <th>year</th>\n      <th></th>\n      <th></th>\n      <th></th>\n      <th></th>\n      <th></th>\n      <th></th>\n      <th></th>\n      <th></th>\n      <th></th>\n      <th></th>\n      <th></th>\n      <th></th>\n      <th></th>\n      <th></th>\n      <th></th>\n      <th></th>\n      <th></th>\n      <th></th>\n      <th></th>\n      <th></th>\n      <th></th>\n    </tr>\n  </thead>\n  <tbody>\n    <tr>\n      <th>2006</th>\n      <td>1125.0</td>\n      <td>665.0</td>\n      <td>1530.0</td>\n      <td>900.0</td>\n      <td>1250.0</td>\n      <td>1070.0</td>\n      <td>1145.0</td>\n      <td>3805.0</td>\n      <td>1645.0</td>\n      <td>1480.0</td>\n      <td>...</td>\n      <td>16000.0</td>\n      <td>33980.0</td>\n      <td>6935.0</td>\n      <td>1105.0</td>\n      <td>2085.0</td>\n      <td>0.0</td>\n      <td>0.0</td>\n      <td>0.0</td>\n      <td>0.0</td>\n      <td>240535.0</td>\n    </tr>\n    <tr>\n      <th>2011</th>\n      <td>665.0</td>\n      <td>610.0</td>\n      <td>1410.0</td>\n      <td>885.0</td>\n      <td>1360.0</td>\n      <td>1230.0</td>\n      <td>1110.0</td>\n      <td>2545.0</td>\n      <td>1470.0</td>\n      <td>1170.0</td>\n      <td>...</td>\n      <td>15390.0</td>\n      <td>35685.0</td>\n      <td>6180.0</td>\n      <td>1260.0</td>\n      <td>1950.0</td>\n      <td>11900.0</td>\n      <td>68780.0</td>\n      <td>50450.0</td>\n      <td>103840.0</td>\n      <td>469940.0</td>\n    </tr>\n    <tr>\n      <th>2016</th>\n      <td>600.0</td>\n      <td>565.0</td>\n      <td>1365.0</td>\n      <td>935.0</td>\n      <td>1745.0</td>\n      <td>1715.0</td>\n      <td>1345.0</td>\n      <td>2100.0</td>\n      <td>1360.0</td>\n      <td>1620.0</td>\n      <td>...</td>\n      <td>15185.0</td>\n      <td>35505.0</td>\n      <td>5955.0</td>\n      <td>1395.0</td>\n      <td>2000.0</td>\n      <td>12780.0</td>\n      <td>74625.0</td>\n      <td>102130.0</td>\n      <td>54425.0</td>\n      <td>487905.0</td>\n    </tr>\n  </tbody>\n</table>\n<p>3 rows \u00d7 49 columns</p>\n</div>"
                    },
                    "metadata": {}
                }
            ]
        },
        {
            "metadata": {},
            "cell_type": "code",
            "source": "rt1={'year':['2006','2011','2016'],\n    'total':[962140,1879760,1951620]}\nrt1=pd.DataFrame(rt1,columns=['year','total'])\nrt1",
            "execution_count": 20,
            "outputs": [
                {
                    "output_type": "execute_result",
                    "execution_count": 20,
                    "data": {
                        "text/plain": "   year    total\n0  2006   962140\n1  2011  1879760\n2  2016  1951620",
                        "text/html": "<div>\n<style scoped>\n    .dataframe tbody tr th:only-of-type {\n        vertical-align: middle;\n    }\n\n    .dataframe tbody tr th {\n        vertical-align: top;\n    }\n\n    .dataframe thead th {\n        text-align: right;\n    }\n</style>\n<table border=\"1\" class=\"dataframe\">\n  <thead>\n    <tr style=\"text-align: right;\">\n      <th></th>\n      <th>year</th>\n      <th>total</th>\n    </tr>\n  </thead>\n  <tbody>\n    <tr>\n      <th>0</th>\n      <td>2006</td>\n      <td>962140</td>\n    </tr>\n    <tr>\n      <th>1</th>\n      <td>2011</td>\n      <td>1879760</td>\n    </tr>\n    <tr>\n      <th>2</th>\n      <td>2016</td>\n      <td>1951620</td>\n    </tr>\n  </tbody>\n</table>\n</div>"
                    },
                    "metadata": {}
                }
            ]
        },
        {
            "metadata": {},
            "cell_type": "code",
            "source": "rt2=rt1\nrt2['total']=rt2['total'].astype(float)\nrt2['year']=rt2['year'].astype(int)\nrt2.dtypes",
            "execution_count": 21,
            "outputs": [
                {
                    "output_type": "execute_result",
                    "execution_count": 21,
                    "data": {
                        "text/plain": "year       int64\ntotal    float64\ndtype: object"
                    },
                    "metadata": {}
                }
            ]
        },
        {
            "metadata": {},
            "cell_type": "code",
            "source": "import seaborn as sns\nimport matplotlib as mpl\nimport matplotlib.pyplot as plt\nimport numpy as np\n\n\naxrt=sns.regplot(x='year',y='total',data=rt2)\naxrt.set_title('total chinese population change in toronto')\naxrt.set_xlabel('year')\naxrt.set_ylabel('population')\nplt.show()\n#we can see the total population is in an increasing trend",
            "execution_count": 22,
            "outputs": [
                {
                    "output_type": "display_data",
                    "data": {
                        "text/plain": "<Figure size 432x288 with 1 Axes>",
                        "image/png": "[encoded data removed]"
                    },
                    "metadata": {
                        "needs_background": "light"
                    }
                }
            ]
        },
        {
            "metadata": {
                "scrolled": true
            },
            "cell_type": "code",
            "source": "#now have a look at which regions are most populated by chinese immigrants\n\n\nfig, ax=plt.subplots(figsize=(20,4))\nax = sns.heatmap(result, xticklabels=True,cmap='YlGnBu')\nax.set_title('chinese population change in toronto region')\nax.set_xlabel('region')\n\nplt.show()",
            "execution_count": 23,
            "outputs": [
                {
                    "output_type": "display_data",
                    "data": {
                        "text/plain": "<Figure size 1440x288 with 2 Axes>",
                        "image/png": "[encoded data removed]"
                    },
                    "metadata": {
                        "needs_background": "light"
                    }
                }
            ]
        },
        {
            "metadata": {},
            "cell_type": "code",
            "source": "#as shown in the above plot, chinese population concentrates in several regions. We select the 3 most populated wards accordingly. \n#they are: ward 48, ward 47, ward 46.\nresult_final=result.loc[:,['Ward 46','Ward 47', 'Ward 48']]\nresult_final",
            "execution_count": 24,
            "outputs": [
                {
                    "output_type": "execute_result",
                    "execution_count": 24,
                    "data": {
                        "text/plain": "      Ward 46   Ward 47   Ward 48\nyear                             \n2006      0.0       0.0       0.0\n2011  68780.0   50450.0  103840.0\n2016  74625.0  102130.0   54425.0",
                        "text/html": "<div>\n<style scoped>\n    .dataframe tbody tr th:only-of-type {\n        vertical-align: middle;\n    }\n\n    .dataframe tbody tr th {\n        vertical-align: top;\n    }\n\n    .dataframe thead th {\n        text-align: right;\n    }\n</style>\n<table border=\"1\" class=\"dataframe\">\n  <thead>\n    <tr style=\"text-align: right;\">\n      <th></th>\n      <th>Ward 46</th>\n      <th>Ward 47</th>\n      <th>Ward 48</th>\n    </tr>\n    <tr>\n      <th>year</th>\n      <th></th>\n      <th></th>\n      <th></th>\n    </tr>\n  </thead>\n  <tbody>\n    <tr>\n      <th>2006</th>\n      <td>0.0</td>\n      <td>0.0</td>\n      <td>0.0</td>\n    </tr>\n    <tr>\n      <th>2011</th>\n      <td>68780.0</td>\n      <td>50450.0</td>\n      <td>103840.0</td>\n    </tr>\n    <tr>\n      <th>2016</th>\n      <td>74625.0</td>\n      <td>102130.0</td>\n      <td>54425.0</td>\n    </tr>\n  </tbody>\n</table>\n</div>"
                    },
                    "metadata": {}
                }
            ]
        },
        {
            "metadata": {},
            "cell_type": "markdown",
            "source": "It seems some data is missing for year 2006, but it doesn't matter. After all, these 3 wards have far more chinese than others.\nlooking back at the original excel doc from toronto public portal, we find that the corresponding areas for wards 46, 47 and 48 are\n# North York, East York and Scarborough\n# these are the shortlisted regions, and we will then explore them in foursquare."
        },
        {
            "metadata": {},
            "cell_type": "code",
            "source": "import requests \nimport random \nimport json \n!conda install -c conda-forge geopy --yes \nfrom geopy.geocoders import Nominatim \n\n\nfrom IPython.display import Image \nfrom IPython.core.display import HTML \n    \n\nfrom pandas.io.json import json_normalize\n\n!conda install -c conda-forge folium=0.5.0 --yes\nimport folium ",
            "execution_count": null,
            "outputs": [
                {
                    "output_type": "stream",
                    "text": "Solving environment: - ",
                    "name": "stdout"
                }
            ]
        },
        {
            "metadata": {},
            "cell_type": "code",
            "source": "CLIENT_ID = 'CTHKZVIW44S3VQDINL5NMSRUVNIZXSXA0HR2QW4QCZYFBJWM' \nCLIENT_SECRET = 'HBNYWD4T132LWJLBG3KYEDJ53HOWH4SLXFISHXKJTZ4PZGCX'\nVERSION = '20180604'\nLIMIT = 30",
            "execution_count": null,
            "outputs": []
        },
        {
            "metadata": {},
            "cell_type": "code",
            "source": "#get latitude and longitude info for the centers of the 3 wards.\naddress_NY = 'North York Center, Toronto, ON'\ngeolocator = Nominatim(user_agent=\"foursquare_agent\")\nlocation_NY = geolocator.geocode(address_NY)\nlatitude_NY = location_NY.latitude\nlongitude_NY = location_NY.longitude\n\naddress_EY = 'East York Town, Toronto, ON'\ngeolocator = Nominatim(user_agent=\"foursquare_agent\")\nlocation_EY = geolocator.geocode(address_EY)\nlatitude_EY = location_EY.latitude\nlongitude_EY = location_EY.longitude\n\naddress_SC = 'Scarborough Center, Toronto, ON'\ngeolocator = Nominatim(user_agent=\"foursquare_agent\")\nlocation_SC = geolocator.geocode(address_SC)\nlatitude_SC = location_SC.latitude\nlongitude_SC = location_SC.longitude\n\nprint('North York geo location:')\nprint(latitude_NY, longitude_NY)\nprint('East York geo location:')\nprint(latitude_EY, longitude_EY)\nprint('Scarborough geo location:') \nprint(latitude_SC, longitude_SC)",
            "execution_count": null,
            "outputs": []
        },
        {
            "metadata": {},
            "cell_type": "code",
            "source": "#search for competitors around the areas, with a radius of 5km for north york and scarborough, and a radius of 2km for east york. \n#The radius is decided according to the approximate square km of each ward.\n\n#For North York\n#since the competitors include all aisan style markets, so the search keyword is set to be asian market instead of chinese market.\nsearch_query_NY = 'asian market'\nradius_NY = 5000\nurl_NY = 'https://api.foursquare.com/v2/venues/search?client_id={}&client_secret={}&ll={},{}&v={}&query={}&radius={}&limit={}'.format(CLIENT_ID, CLIENT_SECRET, latitude_NY, longitude_NY, VERSION, search_query_NY, radius_NY, LIMIT)\nresult_NY = requests.get(url_NY).json()\nresult_NY\n\nmarket_NY = result_NY['response']['venues']\n\n# tranform venues into a dataframe\ndf_NY = json_normalize(market_NY)\ndf_NY",
            "execution_count": null,
            "outputs": []
        },
        {
            "metadata": {},
            "cell_type": "code",
            "source": "#clean data\nfiltered_columns_NY = ['name', 'categories'] + [col for col in df_NY.columns if col.startswith('location.')] + ['id']\ndf_NY1 = df_NY.loc[:, filtered_columns_NY]\n\ndef get_category_type(row):\n    try:\n        categories_list = row['categories']\n    except:\n        categories_list = row['venue.categories']\n        \n    if len(categories_list) == 0:\n        return None\n    else:\n        return categories_list[0]['name']\n\ndf_NY1['categories'] = df_NY1.apply(get_category_type, axis=1)\n\ndf_NY1.columns = [column.split('.')[-1] for column in df_NY1.columns]\n#have a look at the result\ndf_NY1",
            "execution_count": null,
            "outputs": []
        },
        {
            "metadata": {},
            "cell_type": "code",
            "source": "#filter all markets. since the categories are not very exact, we shortlist by names. and here is the final north york competitors list.\ndf_NY1=df_NY1.loc[[1,2,7,11,18,19,20,23],:]\ndf_NY1",
            "execution_count": null,
            "outputs": []
        },
        {
            "metadata": {},
            "cell_type": "code",
            "source": "#Visualize the competitors on map.\nNY_map = folium.Map(location=[latitude_NY, longitude_NY], zoom_start=13) \n\n# add a red circle marker to represent the center\nfolium.features.CircleMarker(\n    [latitude_NY, longitude_NY],\n    radius=10,\n    color='red',\n    popup='North York Center',\n    fill = True,\n    fill_color = 'red',\n    fill_opacity = 0.6\n).add_to(NY_map)\n\n#showing competitors with blue spots\nfor lat, lng, label in zip(df_NY1.lat, df_NY1.lng, df_NY1.categories):\n    folium.features.CircleMarker(\n        [lat, lng],\n        radius=5,\n        color='blue',\n        popup=label,\n        fill = True,\n        fill_color='blue',\n        fill_opacity=0.6\n    ).add_to(NY_map)\n\n\nNY_map",
            "execution_count": null,
            "outputs": []
        },
        {
            "metadata": {},
            "cell_type": "code",
            "source": "#For Scarborough\n\nsearch_query_SC = 'asian market'\nradius_SC = 5000\nurl_SC = 'https://api.foursquare.com/v2/venues/search?client_id={}&client_secret={}&ll={},{}&v={}&query={}&radius={}&limit={}'.format(CLIENT_ID, CLIENT_SECRET, latitude_SC, longitude_SC, VERSION, search_query_SC, radius_SC, LIMIT)\nresult_SC = requests.get(url_SC).json()\nresult_SC\n\nmarket_SC = result_SC['response']['venues']\n\ndf_SC = json_normalize(market_SC)\ndf_SC",
            "execution_count": null,
            "outputs": []
        },
        {
            "metadata": {},
            "cell_type": "code",
            "source": "#clean data\nfiltered_columns_SC = ['name', 'categories'] + [col for col in df_SC.columns if col.startswith('location.')] + ['id']\ndf_SC1 = df_SC.loc[:, filtered_columns_SC]\ndf_SC1['categories'] = df_SC1.apply(get_category_type, axis=1)\ndf_SC1.columns = [column.split('.')[-1] for column in df_SC1.columns]\ndf_SC1",
            "execution_count": null,
            "outputs": []
        },
        {
            "metadata": {},
            "cell_type": "code",
            "source": "#filter competitors result\ndf_SC1=df_SC1.loc[[4,5,7,12,20,21,23,28],:]\ndf_SC1",
            "execution_count": null,
            "outputs": []
        },
        {
            "metadata": {},
            "cell_type": "code",
            "source": "#VISUALIZE IT\nSC_map = folium.Map(location=[latitude_SC, longitude_SC], zoom_start=12) \n\n# add a red circle marker to represent the center\nfolium.features.CircleMarker(\n    [latitude_SC, longitude_SC],\n    radius=10,\n    color='red',\n    popup='Scarborough Center',\n    fill = True,\n    fill_color = 'red',\n    fill_opacity = 0.6\n).add_to(SC_map)\n\n\nfor lat, lng, label in zip(df_SC1.lat, df_SC1.lng, df_SC1.categories):\n    folium.features.CircleMarker(\n        [lat, lng],\n        radius=5,\n        color='blue',\n        popup=label,\n        fill = True,\n        fill_color='blue',\n        fill_opacity=0.6\n    ).add_to(SC_map)\n\n\nSC_map",
            "execution_count": null,
            "outputs": []
        },
        {
            "metadata": {},
            "cell_type": "code",
            "source": "#For East York\n\nsearch_query_EY = 'asian market'\nradius_EY = 2000\nurl_EY = 'https://api.foursquare.com/v2/venues/search?client_id={}&client_secret={}&ll={},{}&v={}&query={}&radius={}&limit={}'.format(CLIENT_ID, CLIENT_SECRET, latitude_EY, longitude_EY, VERSION, search_query_EY, radius_EY, LIMIT)\nresult_EY = requests.get(url_EY).json()\nresult_EY\n\nmarket_EY = result_EY['response']['venues']\n\ndf_EY = json_normalize(market_EY)\ndf_EY",
            "execution_count": null,
            "outputs": []
        },
        {
            "metadata": {},
            "cell_type": "code",
            "source": "#clean data\nfiltered_columns_EY = ['name', 'categories'] + [col for col in df_EY.columns if col.startswith('location.')] + ['id']\ndf_EY1 = df_EY.loc[:, filtered_columns_EY]\ndf_EY1['categories'] = df_EY1.apply(get_category_type, axis=1)\n\ndf_EY1.columns = [column.split('.')[-1] for column in df_EY1.columns]\n\ndf_EY1",
            "execution_count": null,
            "outputs": []
        },
        {
            "metadata": {},
            "cell_type": "code",
            "source": "#filter competitors result\ndf_EY1=df_EY1.loc[[1,2,3,4,5,7,8,11,12,13,15,16,18,20,21,24],:]\ndf_EY1",
            "execution_count": null,
            "outputs": []
        },
        {
            "metadata": {},
            "cell_type": "code",
            "source": "#VISUALIZE IT\nEY_map = folium.Map(location=[latitude_EY, longitude_EY], zoom_start=13) \n\n# add a red circle marker to represent the center\nfolium.features.CircleMarker(\n    [latitude_EY, longitude_EY],\n    radius=10,\n    color='red',\n    popup='East York Town',\n    fill = True,\n    fill_color = 'red',\n    fill_opacity = 0.6\n).add_to(EY_map)\n\n\nfor lat, lng, label in zip(df_EY1.lat, df_EY1.lng, df_EY1.categories):\n    folium.features.CircleMarker(\n        [lat, lng],\n        radius=5,\n        color='blue',\n        popup=label,\n        fill = True,\n        fill_color='blue',\n        fill_opacity=0.6\n    ).add_to(EY_map)\n\n\nEY_map",
            "execution_count": null,
            "outputs": []
        },
        {
            "metadata": {},
            "cell_type": "code",
            "source": "#to see how many competitors in total in each ward\nprint(df_NY1.shape)\nprint(df_SC1.shape)\nprint(df_EY1.shape)",
            "execution_count": null,
            "outputs": []
        },
        {
            "metadata": {},
            "cell_type": "code",
            "source": "#make a new data frame showing general info of each region\ndata1={'ward':['North York','Scarborough','East York'],\n      'population':[74625, 54425, 102130],\n      'competitors number':[8,8,16],\n      'population coverage per competitor':[74625/8,54425/8,102130/16]}\ndf1=pd.DataFrame(data1,columns = ['ward','population','competitors number','population coverage per competitor'])\ndf1",
            "execution_count": null,
            "outputs": []
        },
        {
            "metadata": {},
            "cell_type": "markdown",
            "source": "### looks like north york has the biggest market potential since each market covers a larger population.\n### Now we will need to compare the rent cost and make a overall decision on which region has the best edges.\n### here is a data sheet from CREB toronto showing the office leasing price average.\n\n<img src=\"https://github.com/liq1019/coursera_capstone/blob/master/torent.png?raw=true\">\n\n### The corresponding leasing prices to the 3 shortlisted wards are:\n# North York:21.56/SF Scarborough:12.20/SF East York:12.52/SF\n## Obviously the decision is not straightforward. for the most promising ward North York, the leasing cost is almost double that in other wards.\n## In other words, we have to make a balance between market size and leasing cost."
        },
        {
            "metadata": {},
            "cell_type": "code",
            "source": "#First we put the ward, population coverage and leasing prices into one data frame it will be:\ndf=df1.loc[:,['ward','population coverage per competitor']]\ndf['leasing cost']=[21.56,12.20,12.52]\ndf",
            "execution_count": null,
            "outputs": []
        },
        {
            "metadata": {},
            "cell_type": "code",
            "source": "#We found historical data showing the correlations among population coverage, leasing cost and whether a supermarket is successful or not.\n#And we are going to use this data as a reference and then use some machine learning skills to decide on which area is best.\n\n#import historical data\nhd=pd.read_excel('https://github.com/liq1019/coursera_capstone/blob/master/SUCCESS.xlsx?raw=true')\nhd",
            "execution_count": null,
            "outputs": []
        },
        {
            "metadata": {},
            "cell_type": "code",
            "source": "#To make the data easier for processing, we change Y value to 1 and N value to 0.\nfrom sklearn import preprocessing\nhd['Success or not']=hd['Success or not'].map({'Y':1,'N':0})\nhd",
            "execution_count": null,
            "outputs": []
        },
        {
            "metadata": {},
            "cell_type": "code",
            "source": "#define feature sets\nX=hd[['population coverage per competitor','leasing cost']].values\nX",
            "execution_count": null,
            "outputs": []
        },
        {
            "metadata": {},
            "cell_type": "code",
            "source": "Y=hd[['Success or not']].values\nY",
            "execution_count": null,
            "outputs": []
        },
        {
            "metadata": {},
            "cell_type": "code",
            "source": "#Normalize data\nX=preprocessing.StandardScaler().fit(X).transform(X.astype(float))",
            "execution_count": 13,
            "outputs": [
                {
                    "output_type": "error",
                    "ename": "NameError",
                    "evalue": "name 'preprocessing' is not defined",
                    "traceback": [
                        "\u001b[0;31m---------------------------------------------------------------------------\u001b[0m",
                        "\u001b[0;31mNameError\u001b[0m                                 Traceback (most recent call last)",
                        "\u001b[0;32m<ipython-input-13-2246c8c919a6>\u001b[0m in \u001b[0;36m<module>\u001b[0;34m\u001b[0m\n\u001b[1;32m      1\u001b[0m \u001b[0;31m#Normalize data\u001b[0m\u001b[0;34m\u001b[0m\u001b[0;34m\u001b[0m\u001b[0;34m\u001b[0m\u001b[0m\n\u001b[0;32m----> 2\u001b[0;31m \u001b[0mX\u001b[0m\u001b[0;34m=\u001b[0m\u001b[0mpreprocessing\u001b[0m\u001b[0;34m.\u001b[0m\u001b[0mStandardScaler\u001b[0m\u001b[0;34m(\u001b[0m\u001b[0;34m)\u001b[0m\u001b[0;34m.\u001b[0m\u001b[0mfit\u001b[0m\u001b[0;34m(\u001b[0m\u001b[0mX\u001b[0m\u001b[0;34m)\u001b[0m\u001b[0;34m.\u001b[0m\u001b[0mtransform\u001b[0m\u001b[0;34m(\u001b[0m\u001b[0mX\u001b[0m\u001b[0;34m.\u001b[0m\u001b[0mastype\u001b[0m\u001b[0;34m(\u001b[0m\u001b[0mfloat\u001b[0m\u001b[0;34m)\u001b[0m\u001b[0;34m)\u001b[0m\u001b[0;34m\u001b[0m\u001b[0;34m\u001b[0m\u001b[0m\n\u001b[0m",
                        "\u001b[0;31mNameError\u001b[0m: name 'preprocessing' is not defined"
                    ]
                }
            ]
        },
        {
            "metadata": {},
            "cell_type": "code",
            "source": "from sklearn.model_selection import train_test_split\nX_train, X_test, Y_train, Y_test = train_test_split( X, Y, test_size=0.2, random_state=4)\nprint ('Train set:', X_train.shape,  Y_train.shape)\nprint ('Test set:', X_test.shape,  Y_test.shape)",
            "execution_count": null,
            "outputs": []
        },
        {
            "metadata": {},
            "cell_type": "code",
            "source": "from sklearn.neighbors import KNeighborsClassifier\n#Start testing by using k as 2.\nk = 2\n#Train Model and Predict  \nneigh = KNeighborsClassifier(n_neighbors = k).fit(X_train,Y_train)\nneigh",
            "execution_count": null,
            "outputs": []
        },
        {
            "metadata": {},
            "cell_type": "code",
            "source": "#We use the model to predict the test result.\nYhat = neigh.predict(X_test)\nYhat",
            "execution_count": null,
            "outputs": []
        },
        {
            "metadata": {},
            "cell_type": "code",
            "source": "from sklearn import metrics\nprint(\"Train set Accuracy: \", metrics.accuracy_score(Y_train, neigh.predict(X_train)))\nprint(\"Test set Accuracy: \", metrics.accuracy_score(Y_test, Yhat))",
            "execution_count": null,
            "outputs": []
        },
        {
            "metadata": {},
            "cell_type": "code",
            "source": "#Accuracy result looks good. even though our data is simple, let's still try using different Ks to get the best result.\nKs = 9\nmean_acc = np.zeros((Ks-1))\nstd_acc = np.zeros((Ks-1))\nConfustionMx = [];\nfor n in range(1,Ks):\n    \n    #Train Model and Predict  \n    neigh = KNeighborsClassifier(n_neighbors = n).fit(X_train,Y_train)\n    yhat=neigh.predict(X_test)\n    mean_acc[n-1] = metrics.accuracy_score(Y_test, Yhat)\n\n    \n    std_acc[n-1]=np.std(Yhat==Y_test)/np.sqrt(Yhat.shape[0])\n\nmean_acc",
            "execution_count": null,
            "outputs": []
        },
        {
            "metadata": {},
            "cell_type": "code",
            "source": "plt.plot(range(1,Ks),mean_acc,'g')\nplt.fill_between(range(1,Ks),mean_acc - 1 * std_acc,mean_acc + 1 * std_acc, alpha=0.10)\nplt.legend(('Accuracy ', '+/- 2xstd'))\nplt.ylabel('Accuracy ')\nplt.xlabel('Number of Nabors (K)')\nplt.tight_layout()\nplt.show()",
            "execution_count": null,
            "outputs": []
        },
        {
            "metadata": {},
            "cell_type": "code",
            "source": "print( \"The best accuracy was with\", mean_acc.max(), \"with k=\", mean_acc.argmax()+1) ",
            "execution_count": null,
            "outputs": []
        },
        {
            "metadata": {},
            "cell_type": "code",
            "source": "#so the best k is 1. Redo the model.\nk = 1\nneigh = KNeighborsClassifier(n_neighbors = k).fit(X_train,Y_train)\nneigh",
            "execution_count": null,
            "outputs": []
        },
        {
            "metadata": {},
            "cell_type": "code",
            "source": "#imput the data that we need to predict for the 3 wards.\nX1=df[['population coverage per competitor','leasing cost']].values\nX1=preprocessing.StandardScaler().fit(X1).transform(X1.astype(float))",
            "execution_count": null,
            "outputs": []
        },
        {
            "metadata": {},
            "cell_type": "code",
            "source": "#now let's see using the KNN model we have how's the result for each ward.\nY1hat = neigh.predict(X1)\nY1hat",
            "execution_count": null,
            "outputs": []
        },
        {
            "metadata": {},
            "cell_type": "code",
            "source": "#and we put the results back into the data for the 3 wards. transforming 0 back to N and 1 back to Y.\ndf['Success or not']=[0, 1, 1]\ndf['Success or not']=df['Success or not'].map({1:'Y',0:'N'})\ndf",
            "execution_count": null,
            "outputs": []
        },
        {
            "metadata": {},
            "cell_type": "markdown",
            "source": "### From the result above, we can see that North York is not a good choice. Scarborough and East York win. \n### Taking a closer look. Scarborough is better than East york in both sides: larger population coverage and lower leasing cost.\n### so the final winner is:\n# Scarborough!"
        },
        {
            "metadata": {},
            "cell_type": "code",
            "source": "",
            "execution_count": null,
            "outputs": []
        },
        {
            "metadata": {},
            "cell_type": "code",
            "source": "",
            "execution_count": null,
            "outputs": []
        },
        {
            "metadata": {},
            "cell_type": "code",
            "source": "",
            "execution_count": null,
            "outputs": []
        },
        {
            "metadata": {},
            "cell_type": "code",
            "source": "",
            "execution_count": null,
            "outputs": []
        }
    ],
    "metadata": {
        "kernelspec": {
            "name": "python3",
            "display_name": "Python 3.6",
            "language": "python"
        }
    },
    "nbformat": 4,
    "nbformat_minor": 1
}